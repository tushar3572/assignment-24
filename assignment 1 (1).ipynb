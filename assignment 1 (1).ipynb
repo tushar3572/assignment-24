{
 "cells": [
  {
   "cell_type": "code",
   "execution_count": null,
   "id": "7cdbd98d-d132-455f-8031-6f75cc0f9e77",
   "metadata": {},
   "outputs": [],
   "source": [
    "     #Answer: 1\n",
    "    \n",
    "A) Artificial Intelligence (AI):\n",
    "Artificial Intelligence refers to the simulation of human intelligence in machines, \n",
    "enabling them to perform tasks that typically require human intelligence, such as understanding natural language,\n",
    "recognizing patterns, learning from experience, and making decisions.     \n",
    "\n",
    "Example: A chatbot is a common example of artificial intelligence. \n",
    "\n",
    "B) Machine Learning (ML):\n",
    "Machine Learning is a subset of artificial intelligence that focuses on enabling machines to learn from data without being explicitly programmed. \n",
    "Instead of relying on predefined rules, machine learning algorithms analyze large datasets to identify patterns and make predictions or decisions based on that data.\n",
    "\n",
    "Example: An email spam filter is a classic example of machine learning.\n",
    "\n",
    "C) Deep Learning:\n",
    "Deep Learning is a subset of machine learning that employs artificial neural networks with multiple layers\n",
    "(hence the term \"deep\") to learn representations of data at multiple levels of abstraction. \n",
    "\n",
    "Example: Image recognition systems used in self-driving cars utilize deep learning. "
   ]
  },
  {
   "cell_type": "code",
   "execution_count": null,
   "id": "d3c65f92-6d7f-4531-a88b-8d7ee84e72a1",
   "metadata": {},
   "outputs": [],
   "source": [
    "    #Answer: 2\n",
    "    \n",
    "Supervised learning is a type of machine learning where the algorithm learns from labeled data,\n",
    "meaning the input data is paired with corresponding output labels.\n",
    "The algorithm is trained on a dataset containing input-output pairs, and its goal is to learn the mapping between \n",
    "the input data and the output labels. During training, the algorithm adjusts its parameters to minimize the difference \n",
    "between its predictions and the actual output labels. Supervised learning is commonly used in tasks where the \n",
    "desired output is known and can be provided during training.\n",
    "\n",
    "Examples of supervised learning tasks include:\n",
    "\n",
    "Classification: In classification tasks, the algorithm learns to categorize input data into predefined classes or categories. Examples include:\n",
    "\n",
    "Email spam detection: Given email messages as input, classify each email as spam or not spam.\n",
    "\n",
    "Regression: In regression tasks, the algorithm learns to predict continuous output values based on input features. Examples include:\n",
    "\n",
    "House price prediction: Given features of a house (e.g., size, number of bedrooms), predict its sale price.    "
   ]
  },
  {
   "cell_type": "code",
   "execution_count": null,
   "id": "f77aa88f-267c-46a9-84f0-09ee84c711c3",
   "metadata": {},
   "outputs": [],
   "source": [
    "    #Answer : 3\n",
    "    \n",
    "Unsupervised learning is a type of machine learning where the algorithm learns patterns from input data without any supervision or labeled responses. Unlike supervised learning, where the algorithm is trained on labeled data with corresponding outputs, unsupervised learning algorithms are left to find structure or relationships in the data on their own.\n",
    "\n",
    "Examples of unsupervised learning algorithms and applications include:\n",
    "\n",
    "Clustering: Clustering algorithms group similar data points together based on certain features or characteristics. Examples include:\n",
    "\n",
    "K-means clustering: Divides data into K clusters based on similarity.\n",
    "Hierarchical clustering: Builds a hierarchy of clusters by merging or splitting them based on similarity.\n",
    "Application: Customer segmentation in marketing, grouping similar documents for topic modeling.\n",
    "Dimensionality Reduction: Dimensionality reduction techniques aim to reduce the number of features in a dataset while preserving important information. Examples include:\n",
    "\n",
    "Principal Component Analysis (PCA): Identifies the directions of maximum variance in the data and projects the data onto these principal components.\n",
    "t-Distributed Stochastic Neighbor Embedding (t-SNE): Reduces high-dimensional data into two or three dimensions while preserving local structure.\n",
    "Application: Visualization of high-dimensional data, feature selection, reducing computational complexity.\n",
    "Anomaly Detection: Anomaly detection algorithms identify unusual patterns or outliers in the data. Examples include:\n",
    "\n",
    "Density-based techniques like DBSCAN (Density-Based Spatial Clustering of Applications with Noise).\n",
    "Isolation Forest: Constructs decision trees to isolate anomalies from normal data points.\n",
    "Application: Fraud detection in finance, detecting defective products in manufacturing.\n",
    "Association Rule Learning: Association rule learning identifies relationships between variables in large datasets. Examples include:\n",
    "\n",
    "Apriori algorithm: Finds frequent itemsets in transaction data and generates association rules.\n",
    "FP-Growth (Frequent Pattern Growth): Builds a compact data structure to mine frequent itemsets efficiently.\n",
    "Application: Market basket analysis, recommendation systems.    "
   ]
  },
  {
   "cell_type": "code",
   "execution_count": 2,
   "id": "007e71ac-5c85-4f61-a7a6-618c0be416ec",
   "metadata": {},
   "outputs": [],
   "source": [
    "    #Answer :  4\n",
    "    \n",
    "AI is the broader field of developing intelligent machines, ML is a subset of AI that involves training algorithms to learn from data, \n",
    "DL is a subset of ML that uses ANNs to model complex patterns in data, and DS is an interdisciplinary field that involves extracting insights from data.    "
   ]
  },
  {
   "cell_type": "code",
   "execution_count": null,
   "id": "637389cf-3ab3-4a74-bdee-defbeb9f2627",
   "metadata": {},
   "outputs": [],
   "source": [
    "    #Answer :  5\n",
    "\n",
    "Unsupervised learning is a good choice when there is no labeled data available, or when the labeled data is not very accurate. \n",
    "Semi-supervised learning is a good choice when there is a small amount of labeled data available, \n",
    "and a large amount of unlabeled data available.  \n",
    "Supervised learning is a type of machine learning where the algorithm learns from labeled data,\n",
    "meaning the input data is paired with corresponding output labels.\n",
    "    "
   ]
  },
  {
   "cell_type": "code",
   "execution_count": null,
   "id": "8fd94c5d-f840-4069-8ddc-96ee329eaca2",
   "metadata": {},
   "outputs": [],
   "source": [
    "    #Answer :  6\n",
    "    \n",
    "The train-test-validation split helps assess how well a machine learning model will generalize to new, unseen data. It also prevents overfitting,\n",
    "where a model performs well on the training data but fails to generalize to new instances.    "
   ]
  },
  {
   "cell_type": "code",
   "execution_count": null,
   "id": "886ac244-bea8-49e0-a4fa-105af3d31644",
   "metadata": {},
   "outputs": [],
   "source": [
    "    #Answer :  7\n",
    "    \n",
    "Unsupervised machine learning is one of the main branches of machine learning and it has a multitude of applications. \n",
    "One of the most important is anomaly detection: identifying normal patterns within a data sample and then detecting outliers based on the natural characteristics of the data set itself.    "
   ]
  },
  {
   "cell_type": "code",
   "execution_count": null,
   "id": "8dc85d7c-6d4b-417e-8f24-3450366b3410",
   "metadata": {},
   "outputs": [],
   "source": [
    "   #Answer : 8\n",
    "    \n",
    "The most commonly used Supervised Learning algorithms are decision tree, logistic regression, linear regression, support vector machine. \n",
    "The most commonly used Unsupervised Learning algorithms are k-means clustering, hierarchical clustering, and apriori algorithm    "
   ]
  }
 ],
 "metadata": {
  "kernelspec": {
   "display_name": "Python 3 (ipykernel)",
   "language": "python",
   "name": "python3"
  },
  "language_info": {
   "codemirror_mode": {
    "name": "ipython",
    "version": 3
   },
   "file_extension": ".py",
   "mimetype": "text/x-python",
   "name": "python",
   "nbconvert_exporter": "python",
   "pygments_lexer": "ipython3",
   "version": "3.10.8"
  }
 },
 "nbformat": 4,
 "nbformat_minor": 5
}
